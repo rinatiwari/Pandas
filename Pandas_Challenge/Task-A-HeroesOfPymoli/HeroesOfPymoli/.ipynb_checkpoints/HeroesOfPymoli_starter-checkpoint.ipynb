{
 "cells": [
  {
   "cell_type": "markdown",
   "metadata": {},
   "source": [
    "### Note\n",
    "* Instructions have been included for each segment. You do not have to follow them exactly, but they are included to help you think through the steps."
   ]
  },
  {
   "cell_type": "code",
   "execution_count": 6,
   "metadata": {},
   "outputs": [],
   "source": [
    "# Dependencies and Setup\n",
    "import pandas as pd\n",
    "\n",
    "# File to Load (Remember to Change These)\n",
    "file_to_load = \"Resources/purchase_data.csv\"\n",
    "\n",
    "# Read Purchasing File and store into Pandas data frame\n",
    "purchase_data_df = pd.read_csv(file_to_load)"
   ]
  },
  {
   "cell_type": "markdown",
   "metadata": {},
   "source": [
    "## Player Count"
   ]
  },
  {
   "cell_type": "markdown",
   "metadata": {},
   "source": [
    "* Display the total number of players\n"
   ]
  },
  {
   "cell_type": "code",
   "execution_count": 7,
   "metadata": {},
   "outputs": [
    {
     "data": {
      "text/html": [
       "<div>\n",
       "<style scoped>\n",
       "    .dataframe tbody tr th:only-of-type {\n",
       "        vertical-align: middle;\n",
       "    }\n",
       "\n",
       "    .dataframe tbody tr th {\n",
       "        vertical-align: top;\n",
       "    }\n",
       "\n",
       "    .dataframe thead th {\n",
       "        text-align: right;\n",
       "    }\n",
       "</style>\n",
       "<table border=\"1\" class=\"dataframe\">\n",
       "  <thead>\n",
       "    <tr style=\"text-align: right;\">\n",
       "      <th></th>\n",
       "      <th>Total Players</th>\n",
       "    </tr>\n",
       "  </thead>\n",
       "  <tbody>\n",
       "    <tr>\n",
       "      <th>0</th>\n",
       "      <td>576</td>\n",
       "    </tr>\n",
       "  </tbody>\n",
       "</table>\n",
       "</div>"
      ],
      "text/plain": [
       "   Total Players\n",
       "0            576"
      ]
     },
     "execution_count": 7,
     "metadata": {},
     "output_type": "execute_result"
    }
   ],
   "source": [
    "player_count = len(purchase_data_df[\"SN\"].value_counts())\n",
    "\n",
    "\n",
    "player_count_df = pd.DataFrame([player_count] , columns = [\"Total Players\"])\n",
    "player_count_df"
   ]
  },
  {
   "cell_type": "markdown",
   "metadata": {},
   "source": [
    "## Purchasing Analysis (Total)"
   ]
  },
  {
   "cell_type": "markdown",
   "metadata": {},
   "source": [
    "* Run basic calculations to obtain number of unique items, average price, etc.\n",
    "\n",
    "\n",
    "* Create a summary data frame to hold the results\n",
    "\n",
    "\n",
    "* Optional: give the displayed data cleaner formatting\n",
    "\n",
    "\n",
    "* Display the summary data frame\n"
   ]
  },
  {
   "cell_type": "code",
   "execution_count": 8,
   "metadata": {
    "scrolled": true
   },
   "outputs": [
    {
     "data": {
      "text/html": [
       "<div>\n",
       "<style scoped>\n",
       "    .dataframe tbody tr th:only-of-type {\n",
       "        vertical-align: middle;\n",
       "    }\n",
       "\n",
       "    .dataframe tbody tr th {\n",
       "        vertical-align: top;\n",
       "    }\n",
       "\n",
       "    .dataframe thead th {\n",
       "        text-align: right;\n",
       "    }\n",
       "</style>\n",
       "<table border=\"1\" class=\"dataframe\">\n",
       "  <thead>\n",
       "    <tr style=\"text-align: right;\">\n",
       "      <th></th>\n",
       "      <th>Numbers of Unique Items</th>\n",
       "      <th>Average Price</th>\n",
       "      <th>Number of Purchases</th>\n",
       "      <th>Total Revenue</th>\n",
       "    </tr>\n",
       "  </thead>\n",
       "  <tbody>\n",
       "    <tr>\n",
       "      <th>0</th>\n",
       "      <td>183</td>\n",
       "      <td>$3.05</td>\n",
       "      <td>780</td>\n",
       "      <td>$2379.77</td>\n",
       "    </tr>\n",
       "  </tbody>\n",
       "</table>\n",
       "</div>"
      ],
      "text/plain": [
       "   Numbers of Unique Items Average Price  Number of Purchases Total Revenue\n",
       "0                      183         $3.05                  780      $2379.77"
      ]
     },
     "execution_count": 8,
     "metadata": {},
     "output_type": "execute_result"
    }
   ],
   "source": [
    "unique_items = len(purchase_data_df[\"Item ID\"].unique())\n",
    "\n",
    "average_price = purchase_data_df[\"Price\"].mean()\n",
    "\n",
    "number_of_purchases = purchase_data_df[\"Purchase ID\"].count()\n",
    "\n",
    "total_revenue = purchase_data_df[\"Price\"].sum()\n",
    "\n",
    "\n",
    "purchase_analysis = pd.DataFrame({\n",
    "    \"Numbers of Unique Items\": unique_items,\n",
    "    \"Average Price\": [average_price],\n",
    "    \"Number of Purchases\": [number_of_purchases],\n",
    "    \"Total Revenue\": [total_revenue]\n",
    "    })\n",
    "\n",
    "purchase_analysis[\"Average Price\"] = purchase_analysis[\"Average Price\"].map(\"${:.2f}\".format)\n",
    "\n",
    "purchase_analysis[\"Total Revenue\"] = purchase_analysis[\"Total Revenue\"].map(\"${:}\".format)\n",
    "\n",
    "purchase_analysis"
   ]
  },
  {
   "cell_type": "markdown",
   "metadata": {},
   "source": [
    "## Gender Demographics"
   ]
  },
  {
   "cell_type": "markdown",
   "metadata": {},
   "source": [
    "* Percentage and Count of Male Players\n",
    "\n",
    "\n",
    "* Percentage and Count of Female Players\n",
    "\n",
    "\n",
    "* Percentage and Count of Other / Non-Disclosed\n",
    "\n",
    "\n"
   ]
  },
  {
   "cell_type": "code",
   "execution_count": 11,
   "metadata": {},
   "outputs": [
    {
     "data": {
      "text/html": [
       "<div>\n",
       "<style scoped>\n",
       "    .dataframe tbody tr th:only-of-type {\n",
       "        vertical-align: middle;\n",
       "    }\n",
       "\n",
       "    .dataframe tbody tr th {\n",
       "        vertical-align: top;\n",
       "    }\n",
       "\n",
       "    .dataframe thead th {\n",
       "        text-align: right;\n",
       "    }\n",
       "</style>\n",
       "<table border=\"1\" class=\"dataframe\">\n",
       "  <thead>\n",
       "    <tr style=\"text-align: right;\">\n",
       "      <th></th>\n",
       "      <th>Total Count</th>\n",
       "      <th>Percentage of Players</th>\n",
       "    </tr>\n",
       "  </thead>\n",
       "  <tbody>\n",
       "    <tr>\n",
       "      <th>Male</th>\n",
       "      <td>484</td>\n",
       "      <td>84.03</td>\n",
       "    </tr>\n",
       "    <tr>\n",
       "      <th>Female</th>\n",
       "      <td>81</td>\n",
       "      <td>14.06</td>\n",
       "    </tr>\n",
       "    <tr>\n",
       "      <th>Other / Non-Disclosed</th>\n",
       "      <td>11</td>\n",
       "      <td>1.91</td>\n",
       "    </tr>\n",
       "  </tbody>\n",
       "</table>\n",
       "</div>"
      ],
      "text/plain": [
       "                       Total Count Percentage of Players\n",
       "Male                           484                 84.03\n",
       "Female                          81                 14.06\n",
       "Other / Non-Disclosed           11                  1.91"
      ]
     },
     "execution_count": 11,
     "metadata": {},
     "output_type": "execute_result"
    }
   ],
   "source": [
    "gender = purchase_data_df.loc[:,[\"Gender\", \"SN\"]]\n",
    "gender = gender.drop_duplicates()\n",
    "\n",
    "gender_total = gender[\"Gender\"].value_counts()\n",
    "gender_percent = gender_total / player_count*100\n",
    "\n",
    "gender_demographics = pd.DataFrame({\n",
    "    \"Total Count\": gender_total,\n",
    "    \"Percentage of Players\": gender_percent\n",
    "    })\n",
    "\n",
    "gender_demographics[\"Percentage of Players\"] = gender_demographics[\"Percentage of Players\"].map(\"{:.2f}\".format)\n",
    "gender_demographics"
   ]
  },
  {
   "cell_type": "markdown",
   "metadata": {},
   "source": [
    "\n",
    "## Purchasing Analysis (Gender)"
   ]
  },
  {
   "cell_type": "markdown",
   "metadata": {},
   "source": [
    "* Run basic calculations to obtain purchase count, avg. purchase price, avg. purchase total per person etc. by gender\n",
    "\n",
    "\n",
    "\n",
    "\n",
    "* Create a summary data frame to hold the results\n",
    "\n",
    "\n",
    "* Optional: give the displayed data cleaner formatting\n",
    "\n",
    "\n",
    "* Display the summary data frame"
   ]
  },
  {
   "cell_type": "code",
   "execution_count": 12,
   "metadata": {},
   "outputs": [
    {
     "data": {
      "text/html": [
       "<div>\n",
       "<style scoped>\n",
       "    .dataframe tbody tr th:only-of-type {\n",
       "        vertical-align: middle;\n",
       "    }\n",
       "\n",
       "    .dataframe tbody tr th {\n",
       "        vertical-align: top;\n",
       "    }\n",
       "\n",
       "    .dataframe thead th {\n",
       "        text-align: right;\n",
       "    }\n",
       "</style>\n",
       "<table border=\"1\" class=\"dataframe\">\n",
       "  <thead>\n",
       "    <tr style=\"text-align: right;\">\n",
       "      <th></th>\n",
       "      <th>Number of Purchases</th>\n",
       "      <th>Average Price</th>\n",
       "      <th>Purchase Totals</th>\n",
       "      <th>Avg. Purchase Total/Person</th>\n",
       "    </tr>\n",
       "    <tr>\n",
       "      <th>Gender</th>\n",
       "      <th></th>\n",
       "      <th></th>\n",
       "      <th></th>\n",
       "      <th></th>\n",
       "    </tr>\n",
       "  </thead>\n",
       "  <tbody>\n",
       "    <tr>\n",
       "      <th>Female</th>\n",
       "      <td>113</td>\n",
       "      <td>$3.20</td>\n",
       "      <td>$361.94</td>\n",
       "      <td>$4.47</td>\n",
       "    </tr>\n",
       "    <tr>\n",
       "      <th>Male</th>\n",
       "      <td>652</td>\n",
       "      <td>$3.02</td>\n",
       "      <td>$1967.64</td>\n",
       "      <td>$4.07</td>\n",
       "    </tr>\n",
       "    <tr>\n",
       "      <th>Other / Non-Disclosed</th>\n",
       "      <td>15</td>\n",
       "      <td>$3.35</td>\n",
       "      <td>$50.19</td>\n",
       "      <td>$4.56</td>\n",
       "    </tr>\n",
       "  </tbody>\n",
       "</table>\n",
       "</div>"
      ],
      "text/plain": [
       "                       Number of Purchases Average Price Purchase Totals  \\\n",
       "Gender                                                                     \n",
       "Female                                 113         $3.20         $361.94   \n",
       "Male                                   652         $3.02        $1967.64   \n",
       "Other / Non-Disclosed                   15         $3.35          $50.19   \n",
       "\n",
       "                      Avg. Purchase Total/Person  \n",
       "Gender                                            \n",
       "Female                                     $4.47  \n",
       "Male                                       $4.07  \n",
       "Other / Non-Disclosed                      $4.56  "
      ]
     },
     "execution_count": 12,
     "metadata": {},
     "output_type": "execute_result"
    }
   ],
   "source": [
    "gender_analysis_total = purchase_data_df.groupby([\"Gender\"]).count()[\"Price\"].rename(\"Number of Purchases\")\n",
    "\n",
    "gender_average_price = purchase_data_df.groupby([\"Gender\"]).mean()[\"Price\"].rename(\"Average Price\")\n",
    "\n",
    "gender_total_purchase = purchase_data_df.groupby([\"Gender\"]).sum()[\"Price\"].rename(\"Purchase Totals\")\n",
    "\n",
    "avg_totalpurchase_perperson = gender_total_purchase / gender_total\n",
    "\n",
    "gender_purchasing_analysis = pd.DataFrame({\n",
    "    \"Number of Purchases\": gender_analysis_total,\n",
    "    \"Average Price\": gender_average_price,\n",
    "    \"Purchase Totals\": gender_total_purchase,\n",
    "    \"Avg. Purchase Total/Person\": avg_totalpurchase_perperson\n",
    "    })\n",
    "\n",
    "gender_purchasing_analysis[\"Average Price\"] = gender_purchasing_analysis[\"Average Price\"].map(\"${:.2f}\".format)\n",
    "gender_purchasing_analysis[\"Purchase Totals\"] = gender_purchasing_analysis[\"Purchase Totals\"].map(\"${:.2f}\".format)\n",
    "gender_purchasing_analysis[\"Avg. Purchase Total/Person\"] = gender_purchasing_analysis[\"Avg. Purchase Total/Person\"].map(\"${:.2f}\".format)\n",
    "\n",
    "gender_purchasing_analysis"
   ]
  },
  {
   "cell_type": "markdown",
   "metadata": {},
   "source": [
    "## Age Demographics"
   ]
  },
  {
   "cell_type": "markdown",
   "metadata": {},
   "source": [
    "* Establish bins for ages\n",
    "\n",
    "\n",
    "* Categorize the existing players using the age bins. Hint: use pd.cut()\n",
    "\n",
    "\n",
    "* Calculate the numbers and percentages by age group\n",
    "\n",
    "\n",
    "* Create a summary data frame to hold the results\n",
    "\n",
    "\n",
    "* Optional: round the percentage column to two decimal points\n",
    "\n",
    "\n",
    "* Display Age Demographics Table\n"
   ]
  },
  {
   "cell_type": "code",
   "execution_count": 13,
   "metadata": {},
   "outputs": [
    {
     "data": {
      "text/html": [
       "<div>\n",
       "<style scoped>\n",
       "    .dataframe tbody tr th:only-of-type {\n",
       "        vertical-align: middle;\n",
       "    }\n",
       "\n",
       "    .dataframe tbody tr th {\n",
       "        vertical-align: top;\n",
       "    }\n",
       "\n",
       "    .dataframe thead th {\n",
       "        text-align: right;\n",
       "    }\n",
       "</style>\n",
       "<table border=\"1\" class=\"dataframe\">\n",
       "  <thead>\n",
       "    <tr style=\"text-align: right;\">\n",
       "      <th></th>\n",
       "      <th>Number of Players of X Age</th>\n",
       "      <th>% of Players of X Age</th>\n",
       "    </tr>\n",
       "  </thead>\n",
       "  <tbody>\n",
       "    <tr>\n",
       "      <th>&lt;10</th>\n",
       "      <td>17</td>\n",
       "      <td>2.95</td>\n",
       "    </tr>\n",
       "    <tr>\n",
       "      <th>10-14</th>\n",
       "      <td>22</td>\n",
       "      <td>3.82</td>\n",
       "    </tr>\n",
       "    <tr>\n",
       "      <th>15-19</th>\n",
       "      <td>107</td>\n",
       "      <td>18.58</td>\n",
       "    </tr>\n",
       "    <tr>\n",
       "      <th>20-24</th>\n",
       "      <td>258</td>\n",
       "      <td>44.79</td>\n",
       "    </tr>\n",
       "    <tr>\n",
       "      <th>25-29</th>\n",
       "      <td>77</td>\n",
       "      <td>13.37</td>\n",
       "    </tr>\n",
       "    <tr>\n",
       "      <th>30-34</th>\n",
       "      <td>52</td>\n",
       "      <td>9.03</td>\n",
       "    </tr>\n",
       "    <tr>\n",
       "      <th>35-39</th>\n",
       "      <td>31</td>\n",
       "      <td>5.38</td>\n",
       "    </tr>\n",
       "    <tr>\n",
       "      <th>40+</th>\n",
       "      <td>12</td>\n",
       "      <td>2.08</td>\n",
       "    </tr>\n",
       "  </tbody>\n",
       "</table>\n",
       "</div>"
      ],
      "text/plain": [
       "       Number of Players of X Age % of Players of X Age\n",
       "<10                            17                  2.95\n",
       "10-14                          22                  3.82\n",
       "15-19                         107                 18.58\n",
       "20-24                         258                 44.79\n",
       "25-29                          77                 13.37\n",
       "30-34                          52                  9.03\n",
       "35-39                          31                  5.38\n",
       "40+                            12                  2.08"
      ]
     },
     "execution_count": 13,
     "metadata": {},
     "output_type": "execute_result"
    }
   ],
   "source": [
    "age_players = purchase_data_df.loc[:,[\"Age\",\"SN\"]]\n",
    "age_players = age_players.drop_duplicates()\n",
    "age_existing_players = age_players[\"Age\"].value_counts()\n",
    "\n",
    "bins_age = [0, 9, 14, 19, 24, 29, 34, 39, 100]\n",
    "\n",
    "labels = [\"<10\", \"10-14\", \"15-19\", \"20-24\", \"25-29\", \"30-34\", \"35-39\", \"40+\"]\n",
    "\n",
    "age_data = pd.cut(age_players[\"Age\"], bins_age, labels=labels).value_counts()\n",
    "\n",
    "age_percent = age_data / player_count * 100\n",
    "\n",
    "age_demographics = pd.DataFrame({\n",
    "    \"Number of Players of X Age\": age_data,\n",
    "    \"% of Players of X Age\": age_percent\n",
    "    })\n",
    "\n",
    "age_demographics[\"% of Players of X Age\"] = age_demographics[\"% of Players of X Age\"].map(\"{:.2f}\".format)\n",
    "\n",
    "age_demographics.sort_index()"
   ]
  },
  {
   "cell_type": "markdown",
   "metadata": {},
   "source": [
    "## Purchasing Analysis (Age)"
   ]
  },
  {
   "cell_type": "markdown",
   "metadata": {},
   "source": [
    "* Bin the purchase_data data frame by age\n",
    "\n",
    "\n",
    "* Run basic calculations to obtain purchase count, avg. purchase price, avg. purchase total per person etc. in the table below\n",
    "\n",
    "\n",
    "* Create a summary data frame to hold the results\n",
    "\n",
    "\n",
    "* Optional: give the displayed data cleaner formatting\n",
    "\n",
    "\n",
    "* Display the summary data frame"
   ]
  },
  {
   "cell_type": "code",
   "execution_count": 14,
   "metadata": {},
   "outputs": [
    {
     "data": {
      "text/html": [
       "<div>\n",
       "<style scoped>\n",
       "    .dataframe tbody tr th:only-of-type {\n",
       "        vertical-align: middle;\n",
       "    }\n",
       "\n",
       "    .dataframe tbody tr th {\n",
       "        vertical-align: top;\n",
       "    }\n",
       "\n",
       "    .dataframe thead th {\n",
       "        text-align: right;\n",
       "    }\n",
       "</style>\n",
       "<table border=\"1\" class=\"dataframe\">\n",
       "  <thead>\n",
       "    <tr style=\"text-align: right;\">\n",
       "      <th></th>\n",
       "      <th>Purchase Count</th>\n",
       "      <th>Average Purchase Price</th>\n",
       "      <th>Total Purchase Value</th>\n",
       "      <th>Avg Total Purchase per Person</th>\n",
       "    </tr>\n",
       "  </thead>\n",
       "  <tbody>\n",
       "    <tr>\n",
       "      <th>10-14</th>\n",
       "      <td>28</td>\n",
       "      <td>$2.96</td>\n",
       "      <td>$82.78</td>\n",
       "      <td>$3.76</td>\n",
       "    </tr>\n",
       "    <tr>\n",
       "      <th>15-19</th>\n",
       "      <td>136</td>\n",
       "      <td>$3.04</td>\n",
       "      <td>$412.89</td>\n",
       "      <td>$3.86</td>\n",
       "    </tr>\n",
       "    <tr>\n",
       "      <th>20-24</th>\n",
       "      <td>365</td>\n",
       "      <td>$3.05</td>\n",
       "      <td>$1114.06</td>\n",
       "      <td>$4.32</td>\n",
       "    </tr>\n",
       "    <tr>\n",
       "      <th>25-29</th>\n",
       "      <td>101</td>\n",
       "      <td>$2.90</td>\n",
       "      <td>$293.00</td>\n",
       "      <td>$3.81</td>\n",
       "    </tr>\n",
       "    <tr>\n",
       "      <th>30-34</th>\n",
       "      <td>73</td>\n",
       "      <td>$2.93</td>\n",
       "      <td>$214.00</td>\n",
       "      <td>$4.12</td>\n",
       "    </tr>\n",
       "    <tr>\n",
       "      <th>35-39</th>\n",
       "      <td>41</td>\n",
       "      <td>$3.60</td>\n",
       "      <td>$147.67</td>\n",
       "      <td>$4.76</td>\n",
       "    </tr>\n",
       "    <tr>\n",
       "      <th>40+</th>\n",
       "      <td>13</td>\n",
       "      <td>$2.94</td>\n",
       "      <td>$38.24</td>\n",
       "      <td>$3.19</td>\n",
       "    </tr>\n",
       "    <tr>\n",
       "      <th>&lt;10</th>\n",
       "      <td>23</td>\n",
       "      <td>$3.35</td>\n",
       "      <td>$77.13</td>\n",
       "      <td>$4.54</td>\n",
       "    </tr>\n",
       "  </tbody>\n",
       "</table>\n",
       "</div>"
      ],
      "text/plain": [
       "       Purchase Count Average Purchase Price Total Purchase Value  \\\n",
       "10-14              28                  $2.96               $82.78   \n",
       "15-19             136                  $3.04              $412.89   \n",
       "20-24             365                  $3.05             $1114.06   \n",
       "25-29             101                  $2.90              $293.00   \n",
       "30-34              73                  $2.93              $214.00   \n",
       "35-39              41                  $3.60              $147.67   \n",
       "40+                13                  $2.94               $38.24   \n",
       "<10                23                  $3.35               $77.13   \n",
       "\n",
       "      Avg Total Purchase per Person  \n",
       "10-14                         $3.76  \n",
       "15-19                         $3.86  \n",
       "20-24                         $4.32  \n",
       "25-29                         $3.81  \n",
       "30-34                         $4.12  \n",
       "35-39                         $4.76  \n",
       "40+                           $3.19  \n",
       "<10                           $4.54  "
      ]
     },
     "execution_count": 14,
     "metadata": {},
     "output_type": "execute_result"
    }
   ],
   "source": [
    "purchase_data_df[\"Ranges of Age\"] = pd.cut(purchase_data_df[\"Age\"], bins_age, labels=labels)\n",
    "\n",
    "age_analysis_total = purchase_data_df.groupby([\"Ranges of Age\"]).count()[\"Price\"].rename(\"Purchase Count\")\n",
    "\n",
    "age_average_price = purchase_data_df.groupby([\"Ranges of Age\"]).mean()[\"Price\"].rename(\"Average Purchase Price\")\n",
    "\n",
    "age_total_purchase = purchase_data_df.groupby([\"Ranges of Age\"]).sum()[\"Price\"].rename(\"Total Purchase Value\")\n",
    "\n",
    "age_totalpurchase_perperson = age_total_purchase / age_data\n",
    "\n",
    "age_purchasing_analysis = pd.DataFrame({\n",
    "    \"Purchase Count\": age_analysis_total,\n",
    "    \"Average Purchase Price\": age_average_price,\n",
    "    \"Total Purchase Value\": age_total_purchase,\n",
    "    \"Avg Total Purchase per Person\": age_totalpurchase_perperson\n",
    "    })\n",
    "\n",
    "age_purchasing_analysis[\"Average Purchase Price\"] = age_purchasing_analysis[\"Average Purchase Price\"].map(\"${:.2f}\".format)\n",
    "age_purchasing_analysis[\"Total Purchase Value\"] = age_purchasing_analysis[\"Total Purchase Value\"].map(\"${:.2f}\".format)\n",
    "age_purchasing_analysis[\"Avg Total Purchase per Person\"] = age_purchasing_analysis[\"Avg Total Purchase per Person\"].map(\"${:.2f}\".format)\n",
    "                                                                                                                    \n",
    "\n",
    "age_purchasing_analysis"
   ]
  },
  {
   "cell_type": "markdown",
   "metadata": {},
   "source": [
    "## Top Spenders"
   ]
  },
  {
   "cell_type": "markdown",
   "metadata": {},
   "source": [
    "* Run basic calculations to obtain the results in the table below\n",
    "\n",
    "\n",
    "* Create a summary data frame to hold the results\n",
    "\n",
    "\n",
    "* Sort the total purchase value column in descending order\n",
    "\n",
    "\n",
    "* Optional: give the displayed data cleaner formatting\n",
    "\n",
    "\n",
    "* Display a preview of the summary data frame\n",
    "\n"
   ]
  },
  {
   "cell_type": "code",
   "execution_count": 15,
   "metadata": {},
   "outputs": [
    {
     "data": {
      "text/html": [
       "<div>\n",
       "<style scoped>\n",
       "    .dataframe tbody tr th:only-of-type {\n",
       "        vertical-align: middle;\n",
       "    }\n",
       "\n",
       "    .dataframe tbody tr th {\n",
       "        vertical-align: top;\n",
       "    }\n",
       "\n",
       "    .dataframe thead th {\n",
       "        text-align: right;\n",
       "    }\n",
       "</style>\n",
       "<table border=\"1\" class=\"dataframe\">\n",
       "  <thead>\n",
       "    <tr style=\"text-align: right;\">\n",
       "      <th></th>\n",
       "      <th>Purchase Count</th>\n",
       "      <th>Average Purchase Price</th>\n",
       "      <th>Total Purchase Value</th>\n",
       "    </tr>\n",
       "    <tr>\n",
       "      <th>SN</th>\n",
       "      <th></th>\n",
       "      <th></th>\n",
       "      <th></th>\n",
       "    </tr>\n",
       "  </thead>\n",
       "  <tbody>\n",
       "    <tr>\n",
       "      <th>Lisosia93</th>\n",
       "      <td>5</td>\n",
       "      <td>$3.79</td>\n",
       "      <td>$18.96</td>\n",
       "    </tr>\n",
       "    <tr>\n",
       "      <th>Idastidru52</th>\n",
       "      <td>4</td>\n",
       "      <td>$3.86</td>\n",
       "      <td>$15.45</td>\n",
       "    </tr>\n",
       "    <tr>\n",
       "      <th>Chamjask73</th>\n",
       "      <td>3</td>\n",
       "      <td>$4.61</td>\n",
       "      <td>$13.83</td>\n",
       "    </tr>\n",
       "    <tr>\n",
       "      <th>Iral74</th>\n",
       "      <td>4</td>\n",
       "      <td>$3.40</td>\n",
       "      <td>$13.62</td>\n",
       "    </tr>\n",
       "    <tr>\n",
       "      <th>Iskadarya95</th>\n",
       "      <td>3</td>\n",
       "      <td>$4.37</td>\n",
       "      <td>$13.10</td>\n",
       "    </tr>\n",
       "  </tbody>\n",
       "</table>\n",
       "</div>"
      ],
      "text/plain": [
       "             Purchase Count Average Purchase Price Total Purchase Value\n",
       "SN                                                                     \n",
       "Lisosia93                 5                  $3.79               $18.96\n",
       "Idastidru52               4                  $3.86               $15.45\n",
       "Chamjask73                3                  $4.61               $13.83\n",
       "Iral74                    4                  $3.40               $13.62\n",
       "Iskadarya95               3                  $4.37               $13.10"
      ]
     },
     "execution_count": 15,
     "metadata": {},
     "output_type": "execute_result"
    }
   ],
   "source": [
    "sn_players = purchase_data_df.loc[:,[\"SN\"]]\n",
    "sn_players = sn_players.drop_duplicates()\n",
    "sn_existing_players = sn_players[\"SN\"].value_counts()\n",
    "\n",
    "sn_analysis_total = purchase_data_df.groupby([\"SN\"]).count()[\"Price\"].rename(\"Purchase Count\")\n",
    "\n",
    "sn_average_price = purchase_data_df.groupby([\"SN\"]).mean()[\"Price\"].rename(\"Average Purchase Price\")\n",
    "\n",
    "sn_total_purchase = purchase_data_df.groupby([\"SN\"]).sum()[\"Price\"].rename(\"Total Purchase Value\")\n",
    "\n",
    "\n",
    "sn_purchasing_analysis = pd.DataFrame({\"Purchase Count\": sn_analysis_total,\n",
    "                              \"Average Purchase Price\": sn_average_price,\n",
    "                              \"Total Purchase Value\": sn_total_purchase})\n",
    "\n",
    "sn_purchasing_analysis = sn_purchasing_analysis.sort_values(\"Total Purchase Value\", ascending=False)\n",
    "\n",
    "sn_purchasing_analysis[\"Average Purchase Price\"]=sn_purchasing_analysis[\"Average Purchase Price\"].map(\"${:.2f}\".format)\n",
    "sn_purchasing_analysis[\"Total Purchase Value\"]=sn_purchasing_analysis[\"Total Purchase Value\"].map(\"${:.2f}\".format)\n",
    "\n",
    "sn_purchasing_analysis.head()"
   ]
  },
  {
   "cell_type": "markdown",
   "metadata": {},
   "source": [
    "## Most Popular Items"
   ]
  },
  {
   "cell_type": "markdown",
   "metadata": {},
   "source": [
    "* Retrieve the Item ID, Item Name, and Item Price columns\n",
    "\n",
    "\n",
    "* Group by Item ID and Item Name. Perform calculations to obtain purchase count, item price, and total purchase value\n",
    "\n",
    "\n",
    "* Create a summary data frame to hold the results\n",
    "\n",
    "\n",
    "* Sort the purchase count column in descending order\n",
    "\n",
    "\n",
    "* Optional: give the displayed data cleaner formatting\n",
    "\n",
    "\n",
    "* Display a preview of the summary data frame\n",
    "\n"
   ]
  },
  {
   "cell_type": "code",
   "execution_count": 17,
   "metadata": {},
   "outputs": [
    {
     "data": {
      "text/html": [
       "<style  type=\"text/css\" >\n",
       "</style><table id=\"T_295631f4_ee36_11e9_be1e_4c348814049b\" ><thead>    <tr>        <th class=\"blank\" ></th>        <th class=\"blank level0\" ></th>        <th class=\"col_heading level0 col0\" >Purchase Count</th>        <th class=\"col_heading level0 col1\" >Item Price</th>        <th class=\"col_heading level0 col2\" >Total Purchase Value</th>    </tr>    <tr>        <th class=\"index_name level0\" >Item ID</th>        <th class=\"index_name level1\" >Item Name</th>        <th class=\"blank\" ></th>        <th class=\"blank\" ></th>        <th class=\"blank\" ></th>    </tr></thead><tbody>\n",
       "                <tr>\n",
       "                        <th id=\"T_295631f4_ee36_11e9_be1e_4c348814049blevel0_row0\" class=\"row_heading level0 row0\" >2136</th>\n",
       "                        <th id=\"T_295631f4_ee36_11e9_be1e_4c348814049blevel1_row0\" class=\"row_heading level1 row0\" >Oathbreaker, Last Hope of the Breaking Storm</th>\n",
       "                        <td id=\"T_295631f4_ee36_11e9_be1e_4c348814049brow0_col0\" class=\"data row0 col0\" >12</td>\n",
       "                        <td id=\"T_295631f4_ee36_11e9_be1e_4c348814049brow0_col1\" class=\"data row0 col1\" >$4.23</td>\n",
       "                        <td id=\"T_295631f4_ee36_11e9_be1e_4c348814049brow0_col2\" class=\"data row0 col2\" >$50.76</td>\n",
       "            </tr>\n",
       "            <tr>\n",
       "                        <th id=\"T_295631f4_ee36_11e9_be1e_4c348814049blevel0_row1\" class=\"row_heading level0 row1\" >738</th>\n",
       "                        <th id=\"T_295631f4_ee36_11e9_be1e_4c348814049blevel1_row1\" class=\"row_heading level1 row1\" >Nirvana</th>\n",
       "                        <td id=\"T_295631f4_ee36_11e9_be1e_4c348814049brow1_col0\" class=\"data row1 col0\" >9</td>\n",
       "                        <td id=\"T_295631f4_ee36_11e9_be1e_4c348814049brow1_col1\" class=\"data row1 col1\" >$4.90</td>\n",
       "                        <td id=\"T_295631f4_ee36_11e9_be1e_4c348814049brow1_col2\" class=\"data row1 col2\" >$44.10</td>\n",
       "            </tr>\n",
       "            <tr>\n",
       "                        <th id=\"T_295631f4_ee36_11e9_be1e_4c348814049blevel0_row2\" class=\"row_heading level0 row2\" >1305</th>\n",
       "                        <th id=\"T_295631f4_ee36_11e9_be1e_4c348814049blevel1_row2\" class=\"row_heading level1 row2\" >Fiery Glass Crusader</th>\n",
       "                        <td id=\"T_295631f4_ee36_11e9_be1e_4c348814049brow2_col0\" class=\"data row2 col0\" >9</td>\n",
       "                        <td id=\"T_295631f4_ee36_11e9_be1e_4c348814049brow2_col1\" class=\"data row2 col1\" >$4.58</td>\n",
       "                        <td id=\"T_295631f4_ee36_11e9_be1e_4c348814049brow2_col2\" class=\"data row2 col2\" >$41.22</td>\n",
       "            </tr>\n",
       "            <tr>\n",
       "                        <th id=\"T_295631f4_ee36_11e9_be1e_4c348814049blevel0_row3\" class=\"row_heading level0 row3\" >972</th>\n",
       "                        <th id=\"T_295631f4_ee36_11e9_be1e_4c348814049blevel1_row3\" class=\"row_heading level1 row3\" >Extraction, Quickblade Of Trembling Hands</th>\n",
       "                        <td id=\"T_295631f4_ee36_11e9_be1e_4c348814049brow3_col0\" class=\"data row3 col0\" >9</td>\n",
       "                        <td id=\"T_295631f4_ee36_11e9_be1e_4c348814049brow3_col1\" class=\"data row3 col1\" >$3.53</td>\n",
       "                        <td id=\"T_295631f4_ee36_11e9_be1e_4c348814049brow3_col2\" class=\"data row3 col2\" >$31.77</td>\n",
       "            </tr>\n",
       "            <tr>\n",
       "                        <th id=\"T_295631f4_ee36_11e9_be1e_4c348814049blevel0_row4\" class=\"row_heading level0 row4\" >824</th>\n",
       "                        <th id=\"T_295631f4_ee36_11e9_be1e_4c348814049blevel1_row4\" class=\"row_heading level1 row4\" >Singed Scalpel</th>\n",
       "                        <td id=\"T_295631f4_ee36_11e9_be1e_4c348814049brow4_col0\" class=\"data row4 col0\" >8</td>\n",
       "                        <td id=\"T_295631f4_ee36_11e9_be1e_4c348814049brow4_col1\" class=\"data row4 col1\" >$4.35</td>\n",
       "                        <td id=\"T_295631f4_ee36_11e9_be1e_4c348814049brow4_col2\" class=\"data row4 col2\" >$34.80</td>\n",
       "            </tr>\n",
       "    </tbody></table>"
      ],
      "text/plain": [
       "<pandas.io.formats.style.Styler at 0x2c12beda940>"
      ]
     },
     "execution_count": 17,
     "metadata": {},
     "output_type": "execute_result"
    }
   ],
   "source": [
    "item_id = purchase_data_df.groupby(\"Item ID\").sum().reset_index()\n",
    "item_name_sum = purchase_data_df.groupby(\"Item Name\").sum().reset_index()\n",
    "item_name_count = purchase_data_df.groupby(\"Item Name\").count().reset_index()\n",
    "\n",
    "\n",
    "item_id_sum = pd.merge(item_id, item_name_sum, on=\"Price\")\n",
    "\n",
    "item_id_count = pd.merge(item_name_count, item_id_sum, on=\"Item Name\")\n",
    "\n",
    "item_id_count[\"Gender\"] = (item_id_count[\"Price_y\"]/item_id_count[\"Item ID\"]).round(2)\n",
    "\n",
    "item_id_count_rename = item_id_count.rename(columns={\"Age\" : \"Purchase Count\", \"Gender\" : \"Item Price\", \"Item ID\" : \"null\", \"Price_y\" : \"Total Purchase Value\", \"Item ID_y\" : \"Item ID\"})\n",
    "\n",
    "clean_item = item_id_count_rename[[\"Item ID\", \"Item Name\", \"Purchase Count\", \"Item Price\", \"Total Purchase Value\"]]\n",
    "\n",
    "popular_item = clean_item.set_index([\"Item ID\", \"Item Name\"])\n",
    "\n",
    "popular_item_total = popular_item.sort_values(\"Purchase Count\", ascending=False).head(5)\n",
    "\n",
    "popular_item_total.style.format({\"Item Price\" : \"${:.2f}\", \"Total Purchase Value\" : \"${:.2f}\"})\n"
   ]
  },
  {
   "cell_type": "markdown",
   "metadata": {},
   "source": [
    "## Most Profitable Items"
   ]
  },
  {
   "cell_type": "markdown",
   "metadata": {},
   "source": [
    "* Sort the above table by total purchase value in descending order\n",
    "\n",
    "\n",
    "* Optional: give the displayed data cleaner formatting\n",
    "\n",
    "\n",
    "* Display a preview of the data frame\n",
    "\n"
   ]
  },
  {
   "cell_type": "code",
   "execution_count": 18,
   "metadata": {
    "scrolled": true
   },
   "outputs": [
    {
     "data": {
      "text/html": [
       "<style  type=\"text/css\" >\n",
       "</style><table id=\"T_2bffb450_ee36_11e9_a861_4c348814049b\" ><thead>    <tr>        <th class=\"blank\" ></th>        <th class=\"blank level0\" ></th>        <th class=\"col_heading level0 col0\" >Purchase Count</th>        <th class=\"col_heading level0 col1\" >Item Price</th>        <th class=\"col_heading level0 col2\" >Total Purchase Value</th>    </tr>    <tr>        <th class=\"index_name level0\" >Item ID</th>        <th class=\"index_name level1\" >Item Name</th>        <th class=\"blank\" ></th>        <th class=\"blank\" ></th>        <th class=\"blank\" ></th>    </tr></thead><tbody>\n",
       "                <tr>\n",
       "                        <th id=\"T_2bffb450_ee36_11e9_a861_4c348814049blevel0_row0\" class=\"row_heading level0 row0\" >2136</th>\n",
       "                        <th id=\"T_2bffb450_ee36_11e9_a861_4c348814049blevel1_row0\" class=\"row_heading level1 row0\" >Oathbreaker, Last Hope of the Breaking Storm</th>\n",
       "                        <td id=\"T_2bffb450_ee36_11e9_a861_4c348814049brow0_col0\" class=\"data row0 col0\" >12</td>\n",
       "                        <td id=\"T_2bffb450_ee36_11e9_a861_4c348814049brow0_col1\" class=\"data row0 col1\" >4.23</td>\n",
       "                        <td id=\"T_2bffb450_ee36_11e9_a861_4c348814049brow0_col2\" class=\"data row0 col2\" >$50.76</td>\n",
       "            </tr>\n",
       "            <tr>\n",
       "                        <th id=\"T_2bffb450_ee36_11e9_a861_4c348814049blevel0_row1\" class=\"row_heading level0 row1\" >738</th>\n",
       "                        <th id=\"T_2bffb450_ee36_11e9_a861_4c348814049blevel1_row1\" class=\"row_heading level1 row1\" >Nirvana</th>\n",
       "                        <td id=\"T_2bffb450_ee36_11e9_a861_4c348814049brow1_col0\" class=\"data row1 col0\" >9</td>\n",
       "                        <td id=\"T_2bffb450_ee36_11e9_a861_4c348814049brow1_col1\" class=\"data row1 col1\" >4.9</td>\n",
       "                        <td id=\"T_2bffb450_ee36_11e9_a861_4c348814049brow1_col2\" class=\"data row1 col2\" >$44.10</td>\n",
       "            </tr>\n",
       "            <tr>\n",
       "                        <th id=\"T_2bffb450_ee36_11e9_a861_4c348814049blevel0_row2\" class=\"row_heading level0 row2\" >1305</th>\n",
       "                        <th id=\"T_2bffb450_ee36_11e9_a861_4c348814049blevel1_row2\" class=\"row_heading level1 row2\" >Fiery Glass Crusader</th>\n",
       "                        <td id=\"T_2bffb450_ee36_11e9_a861_4c348814049brow2_col0\" class=\"data row2 col0\" >9</td>\n",
       "                        <td id=\"T_2bffb450_ee36_11e9_a861_4c348814049brow2_col1\" class=\"data row2 col1\" >4.58</td>\n",
       "                        <td id=\"T_2bffb450_ee36_11e9_a861_4c348814049brow2_col2\" class=\"data row2 col2\" >$41.22</td>\n",
       "            </tr>\n",
       "            <tr>\n",
       "                        <th id=\"T_2bffb450_ee36_11e9_a861_4c348814049blevel0_row3\" class=\"row_heading level0 row3\" >824</th>\n",
       "                        <th id=\"T_2bffb450_ee36_11e9_a861_4c348814049blevel1_row3\" class=\"row_heading level1 row3\" >Singed Scalpel</th>\n",
       "                        <td id=\"T_2bffb450_ee36_11e9_a861_4c348814049brow3_col0\" class=\"data row3 col0\" >8</td>\n",
       "                        <td id=\"T_2bffb450_ee36_11e9_a861_4c348814049brow3_col1\" class=\"data row3 col1\" >4.35</td>\n",
       "                        <td id=\"T_2bffb450_ee36_11e9_a861_4c348814049brow3_col2\" class=\"data row3 col2\" >$34.80</td>\n",
       "            </tr>\n",
       "            <tr>\n",
       "                        <th id=\"T_2bffb450_ee36_11e9_a861_4c348814049blevel0_row4\" class=\"row_heading level0 row4\" >972</th>\n",
       "                        <th id=\"T_2bffb450_ee36_11e9_a861_4c348814049blevel1_row4\" class=\"row_heading level1 row4\" >Extraction, Quickblade Of Trembling Hands</th>\n",
       "                        <td id=\"T_2bffb450_ee36_11e9_a861_4c348814049brow4_col0\" class=\"data row4 col0\" >9</td>\n",
       "                        <td id=\"T_2bffb450_ee36_11e9_a861_4c348814049brow4_col1\" class=\"data row4 col1\" >3.53</td>\n",
       "                        <td id=\"T_2bffb450_ee36_11e9_a861_4c348814049brow4_col2\" class=\"data row4 col2\" >$31.77</td>\n",
       "            </tr>\n",
       "    </tbody></table>"
      ],
      "text/plain": [
       "<pandas.io.formats.style.Styler at 0x2c12f533940>"
      ]
     },
     "execution_count": 18,
     "metadata": {},
     "output_type": "execute_result"
    }
   ],
   "source": [
    "profit_items = popular_item_total.sort_values(\"Total Purchase Value\", ascending=False).head(5)\n",
    "profit_items.style.format({\"Item Name\": \"${:.2f}\", \"Total Purchase Value\": \"${:.2f}\"})"
   ]
  }
 ],
 "metadata": {
  "anaconda-cloud": {},
  "kernel_info": {
   "name": "python3"
  },
  "kernelspec": {
   "display_name": "Python 3",
   "language": "python",
   "name": "python3"
  },
  "language_info": {
   "codemirror_mode": {
    "name": "ipython",
    "version": 3
   },
   "file_extension": ".py",
   "mimetype": "text/x-python",
   "name": "python",
   "nbconvert_exporter": "python",
   "pygments_lexer": "ipython3",
   "version": "3.7.3"
  },
  "latex_envs": {
   "LaTeX_envs_menu_present": true,
   "autoclose": false,
   "autocomplete": true,
   "bibliofile": "biblio.bib",
   "cite_by": "apalike",
   "current_citInitial": 1,
   "eqLabelWithNumbers": true,
   "eqNumInitial": 1,
   "hotkeys": {
    "equation": "Ctrl-E",
    "itemize": "Ctrl-I"
   },
   "labels_anchors": false,
   "latex_user_defs": false,
   "report_style_numbering": false,
   "user_envs_cfg": false
  },
  "nteract": {
   "version": "0.2.0"
  }
 },
 "nbformat": 4,
 "nbformat_minor": 2
}
